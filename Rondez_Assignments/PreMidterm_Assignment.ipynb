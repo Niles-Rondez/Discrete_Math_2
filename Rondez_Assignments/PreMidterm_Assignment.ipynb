{
 "cells": [
  {
   "cell_type": "markdown",
   "metadata": {},
   "source": [
    "# Pre-Midterm Assignment"
   ]
  },
  {
   "cell_type": "markdown",
   "metadata": {},
   "source": [
    "> Made by Niles Vincent Gabrielle Rondez"
   ]
  },
  {
   "cell_type": "markdown",
   "metadata": {},
   "source": [
    "1. Use latex.\n",
    "2. Write your latex in jupyter notebook.\n",
    "3. Push your answer to your github account.\n",
    "4. Deadline is 2 weeks before finals.\n",
    "5. Fail to submit 2 weeks before finals is an automatic 5.0 for this assignment.\n",
    "6. Each problem is 25 points."
   ]
  },
  {
   "cell_type": "markdown",
   "metadata": {},
   "source": [
    "### Problem 1"
   ]
  },
  {
   "cell_type": "markdown",
   "metadata": {},
   "source": [
    "Recall the definition of a rational number, denoted as $\\mathbb{Q}$. \n",
    "\n",
    "Prove that the Euler's number $e = \\Sigma_{k=0}^\\infty \\frac{1}{k!} \\notin \\mathbb{Q}$. A factorial is defined as $k! = (k)(k-1)(k-2)(k-3)..., \\forall k \\in \\mathbb{Z}^+$, note that $0! = 1$. Furthermore, a sum notation $\\Sigma_{k=0}^\\infty k = 0+ 1 + 2 + 3 +....+...$"
   ]
  },
  {
   "cell_type": "markdown",
   "metadata": {},
   "source": [
    "#### Answer"
   ]
  },
  {
   "cell_type": "markdown",
   "metadata": {},
   "source": [
    "Step 1 : Proving by Contradiction. \n",
    "Suppose that $e$ is rational, so it can be expressed as $e = \\frac{p}{q}$, wherein $q \\neq 0$.\n",
    "\n",
    "Step 2 : Recall the definition of the sum of the series:\n",
    "$$e = \\Sigma_{k=0}^\\infty \\frac{1}{k!}$$\n",
    "which can also be expressed as:\n",
    "$$e = \\frac{1}{0!} + \\frac{1}{1!} + \\frac{1}{2!} + \\frac{1}{3!} + ... $$\n",
    "\n",
    "Step 3 : Consider the partial sum of the series:\n",
    "$$S_n = \\frac{1}{0!} + \\frac{1}{1!} + \\frac{1}{2!} + \\frac{1}{3!} + ... + \\frac{1}{n!}$$\n",
    "For some positive integer $n$. Since every term in the series is positive, $S_n$ is increasing and bound above by $e$, thus coverging to $e$ as $n$ approaches infinity.\n",
    "\n",
    "Step 4 : Consider the expression: \n",
    "$$q! \\cdot S_n = q! \\cdot \\left ( \\frac{1}{0!} + \\frac{1}{1!} + \\frac{1}{2!} + \\frac{1}{3!} + ... + \\frac{1}{n!} \\right ) $$\n",
    "\n",
    "Step 5 : Expand the expression :\n",
    "$$q! \\cdot S_n = q! + \\frac{q!}{1!} + \\frac{q!}{2!} + \\frac{q!}{3!} + ... + \\frac{q!}{n!}$$\n",
    "\n",
    "Step 6 : Every term in this expression is an integer. Since $S_n$ converges to $e$, $q! \\cdot S_n$ should be very close to $q! \\cdot e = p$. This suggests that $p - q! \\cdot S_n$ should be a very small positive integer.\n",
    "\n",
    "$$p - q! \\cdot S_n = p - \\left ( q! + \\frac{q!}{1!} + \\frac{q!}{2!} + \\frac{q!}{3!} + ... + \\frac{q!}{n!}\\right )$$\n",
    "\n",
    "$$p - q! \\cdot S_n = p - q! + \\frac{q!}{1!} + \\frac{q!}{2!} + \\frac{q!}{3!} + ... + \\frac{q!}{n!}$$\n",
    "\n",
    "$$p - q! \\cdot S_n = \\left( p - q! \\right) + \\frac{q!}{1!} + \\frac{q!}{2!} + \\frac{q!}{3!} + ... + \\frac{q!}{n!}$$\n",
    "\n",
    "Step 7 : \n",
    "Every term in the parenthesis is an integer, and every term in the summation is a fraction with the denominator being more than 1. Thus, $p - q! \\cdot S_n$ must be a positive non-zero integer. Which contradicts that $e = \\frac{p}{q}$ because $q! \\cdot S_n$ should closely approach $p$ but does not exactly match it, resulting to a contradiction.\n",
    "\n",
    "**Therefore, the assumption that $e$ is rational is proven to be false.**\n"
   ]
  },
  {
   "cell_type": "markdown",
   "metadata": {},
   "source": [
    "### Problem 2"
   ]
  },
  {
   "cell_type": "markdown",
   "metadata": {},
   "source": [
    "Prove Minkowski's Inequality for sums : $\\forall p > 1$, $\\left ( a_k, b_k \\right ) > 0$:\n",
    "$$\n",
    "\\left [ \\sum_{k=1}^{n} \\left | a_k+b_k \\right |^p\\right ]^\\frac{1}{p} \\leq \\left [ \\sum_{k=1}^{n} \\left | a_k\\right |^p\\right ]^\\frac{1}{p} + \\left [ \\sum_{k=1}^{n} \\left | b_k \\right |^p\\right ]^\\frac{1}{p}\n",
    "$$\n",
    "\n"
   ]
  },
  {
   "cell_type": "markdown",
   "metadata": {},
   "source": [
    "#### Answer"
   ]
  },
  {
   "cell_type": "markdown",
   "metadata": {},
   "source": [
    "Step 1 : Let $n = $ any base number, then $ \\left (  n^p\\right )^\\frac{1}{p} = n$.  This emplies that the $p$-th root of $n^p$ is $n$. \n",
    "\n",
    "Applying this to the sums of $\\left | a_k\\right |^p$ and $\\left | b_k\\right |^p$ gives us:\n",
    "\n",
    "$$\\sum_{k=1}^{n}\\left | a_k + b_k \\right |\\leq \\sum_{k=1}^{n}\\left | a_k \\right | + \\sum_{k=1}^{n}\\left | b_k \\right |$$\n",
    "\n",
    "Step 2 : Simplify using the property of summation with addition: \n",
    "$$\\sum_{k=1}^{n}\\left | a_k + b_k \\right |\\leq \\sum_{k=1}^{n}\\left | a_k \\right | + \\left | b_k \\right |$$\n",
    "\n",
    "Step 3 : Prove by Triangle Inequality\n",
    "Disregard the Summation notations :\n",
    "$$\\left | a_k + b_k \\right |\\leq \\left | a_k \\right | + \\left | b_k \\right |$$\n",
    "\n",
    "Step 4 : \n",
    "Since $\\left (a_k,b_k\\right)>0$ then, $\\left(a+b\\right) = a + b$ and $\\left|a\\right| = a_k, \\left|b\\right| = b_k$\n",
    "\n",
    "Substitute : \n",
    "$$\\left|a+b\\right| = a + b = \\left|a\\right| + \\left|b\\right|$$\n",
    "\n",
    "**Which proves Minowski's inequality for sums.**"
   ]
  },
  {
   "cell_type": "markdown",
   "metadata": {},
   "source": [
    "### Problem 3"
   ]
  },
  {
   "cell_type": "markdown",
   "metadata": {},
   "source": [
    "Prove the triangle inequality $\\left | x + y \\right |\\leq \\left | x \\right |+\\left | y \\right |, \\forall\\left ( x, y \\right )\\in \\mathbb{R}$"
   ]
  },
  {
   "cell_type": "markdown",
   "metadata": {},
   "source": [
    "To prove the triangle inequality, we need to consider all cases of x and y wherein both are positive, negative, or hold different signs.\n",
    "\n",
    "Case 1 : \n",
    "Assume that x and y are both positive : \n",
    "$$\\left | x + y \\right | = x + y= \\left | x \\right |+\\left | y \\right |$$\n",
    "In this case, both x and y are positive and hold their absolute values so $\\left | x + y \\right | =  \\left | x \\right |+\\left | y \\right |$ holds true.\n",
    "\n",
    "Case 2 : \n",
    "Assume that x and y are both negative : \n",
    "$$\\left | x + y \\right | =-\\left(x+y\\right)= -x - y = -x +(-y) = \\left | x \\right |+\\left | y \\right | $$\n",
    "In this case, this both are the negation or their original values, $\\left | x + y \\right | =  \\left | x \\right |+\\left | y \\right |$ still holds true.\n",
    "\n",
    "Case 3 : \n",
    "Assume that $x > 0$ and $y < 0$ : \n",
    "$$\\left|x - y \\right| = x + (-y) = x - y = \\left | x \\right |-\\left | y \\right |$$\n",
    "Since $x > y$, $\\left|x - y \\right| = x - y$, so $\\left | x + y \\right | =  \\left | x \\right |+\\left | y \\right |$ still holds true.\n",
    "\n",
    "Conclusion : \n",
    "\n",
    "**All cases proved that $\\left | x + y \\right | =  \\left | x \\right |+\\left | y \\right |$ which proves the triangle inequality**"
   ]
  },
  {
   "cell_type": "markdown",
   "metadata": {},
   "source": [
    "### Problem 4"
   ]
  },
  {
   "cell_type": "markdown",
   "metadata": {},
   "source": [
    "Prove Sedrakayan's Lemma $\\forall u_i, v_i \\in \\mathbb{R}^+$ : \n",
    "$$\n",
    "\\frac{\\left ( \\sum_{i=1}^{n} u_i\\right )^2}{\\sum_{i=1}^{n}v_i} \\leq \\sum_{i=1}^{n}\\frac{\\left ( u_i \\right )^2}{v_i}\n",
    "$$"
   ]
  },
  {
   "cell_type": "markdown",
   "metadata": {},
   "source": [
    "#### Answer"
   ]
  },
  {
   "cell_type": "markdown",
   "metadata": {},
   "source": [
    "Step 1 : Define the two vectors : $u$ and $v$\n",
    "\n",
    "$u = \\left(u_1, u_2, u_3, ... , u_n\\right)$\n",
    "\n",
    "\n",
    "$v = \\left ( \\sqrt{v_1}, \\sqrt{v_2}, \\sqrt{v_3}, ...,\\sqrt{v_n}\\right )$\n",
    "\n",
    "Step 2 : Apply the Cauchy-Schwarz Inequality for inner products of vectors.\n",
    "\n",
    "Sum of $u_i$:\n",
    "$$\\left ( \\sum_{i=1}^{n} u_i\\right )^2 \\leq n\\left ( \\sum_{i=1}^{n} u_i^2\\right )$$\n",
    "Sum of $\\sqrt{v_i}$:\n",
    "$$\\left ( \\sum_{i=1}^{n} \\sqrt{v_i}\\right )^2 \\leq n\\left ( \\sum_{i=1}^{n} \\sqrt{v_i}\\right )$$\n",
    "\n",
    "Step 3 : Rearrange the expression : \n",
    "$$\\frac{\\left ( \\sum_{i=1}^{n}u_i \\right )^2}{\\sum_{i=1}^{n}v_i} \\leq \\frac{\\sum_{i=1}^{n}u_i^2}{\\sum_{i=1}^{n}v_i}$$\n",
    "Simplified, give us : \n",
    "$$\n",
    "\\frac{\\left ( \\sum_{i=1}^{n} u_i\\right )^2}{\\sum_{i=1}^{n}v_i} \\leq \\sum_{i=1}^{n}\\frac{\\left ( u_i \\right )^2}{v_i}\n",
    "$$\n",
    "\n",
    "**Which validates Sedrakayan's Lemma**"
   ]
  }
 ],
 "metadata": {
  "kernelspec": {
   "display_name": "base",
   "language": "python",
   "name": "python3"
  },
  "language_info": {
   "codemirror_mode": {
    "name": "ipython",
    "version": 3
   },
   "file_extension": ".py",
   "mimetype": "text/x-python",
   "name": "python",
   "nbconvert_exporter": "python",
   "pygments_lexer": "ipython3",
   "version": "3.11.7"
  }
 },
 "nbformat": 4,
 "nbformat_minor": 2
}
