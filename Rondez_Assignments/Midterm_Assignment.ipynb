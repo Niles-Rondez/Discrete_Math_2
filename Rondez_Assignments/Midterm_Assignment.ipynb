{
 "cells": [
  {
   "cell_type": "markdown",
   "metadata": {},
   "source": [
    "# Midterm Assignment\n",
    "\n",
    ">Made by Niles Vincent Gabrielle Rondez"
   ]
  },
  {
   "cell_type": "markdown",
   "metadata": {},
   "source": [
    "1. Use Latex to write your solution.\n",
    "2. Push your solution to your github repository."
   ]
  },
  {
   "cell_type": "markdown",
   "metadata": {},
   "source": [
    "### Task 1 : \n",
    "\n",
    "Consider the following experiment:\n",
    "\n",
    "1. The experiment consists of $n$ identitcal trials.\n",
    "2. The outcome of each trial falls into one of $k$ classes or cells.\n",
    "3. The probability that the outcome of a single trial falls into cell $i$ is $p_i$,$i = 1,2,...,k$ and remains the same from trial to trial. Notice that $p_1+p_2+p_3+..+p_k = 1$.\n",
    "4. The trials are independent.\n",
    "5. The random variables of interest are $Y_1+Y_2+Y_3+...+Y_k=n$.\n",
    "6. The join probability distribution $P\\left ( y \\right ) = \\frac{n!}{y_1!y_2!y_3!...y_n!}P_1^{y1}P_2^{y2}P_3^{y3}...P_n^{yn}$\n",
    "\n",
    "##### Question 1 : \n",
    "Show that the expected value $E\\left | y \\right |=\\sum y\\cdot P\\left ( y \\right )=n\\cdot p_i$\n"
   ]
  },
  {
   "cell_type": "markdown",
   "metadata": {},
   "source": [
    "Step 1 : Express the expected value of $Y_i$\n",
    "$$E\\left[y_i\\right] = \\sum_{y}y \\cdot P\\left[y\\right]$$\n",
    "\n",
    "Step 2 : Substitute the joint probability distribution for $P\\left[y_i\\right]$\n",
    "$$E\\left[y_i\\right] = \\sum_{y}y \\cdot \\frac{n!}{y_1!y_2!y_3!...y_n!}P_1^{y1}P_2^{y2}P_3^{y3}...P_n^{yn}$$\n",
    "\n",
    "it shows that $Y_i = n \\cdot p$, where $p$ shows the probability of the outcome in a single trial, hence $E\\left [Y_i\\right] = n \\cdot p_i.$ QED "
   ]
  },
  {
   "cell_type": "markdown",
   "metadata": {},
   "source": [
    "##### Question 2 : "
   ]
  },
  {
   "cell_type": "markdown",
   "metadata": {},
   "source": [
    "Consider the provided data\n",
    "\n",
    "|Age|Proportion|\n",
    "|---|----------|\n",
    "|18-24|0.18|\n",
    "|25-34|0.23|\n",
    "|35-44|0.16|\n",
    "|45-64|0.27|\n",
    "|65-100|0.16|\n",
    "\n",
    "If 500 adults are randomly sampled, determine the probability that the sample includes 100 individuals aged 18-24, 200 aged 25-34, and 200 aged 45-64. What is the anticipated value to obtain a person aged 65 and above?"
   ]
  },
  {
   "cell_type": "markdown",
   "metadata": {},
   "source": [
    "Step 1 : Use the multinomial distribution formula to compute the probability of the sample containing a certain number from a specific age range.\n",
    "\n",
    "$$P \\left(y_1,y_2,y_3,y_4,y_5\\right) = \\frac{500!}{100!\\cdot 200!\\cdot 300!\\cdot 400!\\cdot 500!} \\cdot 0.18^{100} \\cdot 0.23^{200} \\cdot 0.16^{200} \\cdot 0.27^{0} \\cdot 0.16^{0}$$\n",
    "\n",
    "Step 2 : \n",
    "Where : \n",
    "\n",
    "$y_1 = 100$ (Age 18-24)\n",
    "\n",
    "$y_2 = 200$ (Age 25-34)\n",
    "\n",
    "$y_3 = 200$ (Age 35-44)\n",
    "\n",
    "$y_4 = 0$ (Age 45-64)\n",
    "\n",
    "$y_5 = 0$ (Age 65-100)\n",
    "\n",
    "We can get the expected value to get a person in the 65-100 range by getting the sum of the products of the probability from each age range and count the number from each.\n",
    "\n",
    "Step 3 : \n",
    "Let the probability of a person being 65-100 be $P_{65}$\n",
    "\n",
    "Step 4 :\n",
    "Subtract the sum of the other groups from 1 to get $P_{65}$\n",
    "\n",
    "$P_{65} = 1-\\left(0.18+0.23+0.16+0.27\\right) = 0.16$\n",
    "\n",
    "Step 5 : \n",
    "Multiply the probability by the sample size to get the count\n",
    "\n",
    "$E[500] = 500 \\cdot 0.16 = 80$\n",
    "\n",
    "Which means the expected value to obtain a person aged 65-100 would be 80."
   ]
  },
  {
   "cell_type": "markdown",
   "metadata": {},
   "source": [
    "### Task 2 :\n",
    "\n",
    "1. The experiment consists of a fixed number,$n$, of identical trials.\n",
    "2. Each trial results in one of two outcomes: success, $S$ , or failure,$F$.\n",
    "3. The probability of success on a single trial is equal to some value $p$ and remains the same from trial to trial. The probability of a failure is equal to $q = (1-p)$.\n",
    "4. The trials are independent.\n",
    "5. The random variable of interest is $Y$, the number of successes observed during the $n$ trials."
   ]
  },
  {
   "cell_type": "markdown",
   "metadata": {},
   "source": [
    "##### Question 1 : \n",
    "From the following steps shown above, derive the probability distribution of the experiment. To derive the probability distribution of the experiment described in the steps provided, we need to find the probability mass function (PMF) for the random variable $Y$, which represents the number of successes observed during the $n$ trials."
   ]
  },
  {
   "cell_type": "markdown",
   "metadata": {},
   "source": [
    "Step 1 : Let $Y = y$ to represent the event where exactly $y$ successes are observed out of $n$ trials\n",
    "\n",
    "Step 2 : Use the Binomial probability formula to get $y$ successes and $(n-y)$ failures\n",
    "$$P(Y = y) = \\binom{n}{y} \\cdot p^y \\cdot (1-p)^{n-y}$$\n",
    "\n",
    "Where :\n",
    "- $n$ is the number of trials\n",
    "- $p$ is the success probability in a single trial\n",
    "- $\\binom{n}{y}$ is the number of ways of $y$ successes over $n$ trials\n",
    "- $(1-p)^{n-y}$ is the probability of $(n-y)$ failures\n"
   ]
  },
  {
   "cell_type": "markdown",
   "metadata": {},
   "source": [
    "##### Question 2 \n",
    "\n",
    "Show that the expectation of this probability distribution is $E\\left | y \\right | = \\sum y \\cdot P\\left ( y \\right ) = np$"
   ]
  },
  {
   "cell_type": "markdown",
   "metadata": {},
   "source": [
    "Step 1 : Summate all the possible values of $y$ multiplied by its respective probability\n",
    "\n",
    "$$E\\left | y \\right | = \\sum_{y=0}^{n} y \\cdot P\\left ( y \\right )$$\n",
    "\n",
    "Step 2 : Substitute the probability math function of the binomial distribution\n",
    "$$ E\\left | y \\right | = \\sum_{y=0}^{n} y \\cdot \\binom{n}{y} P^y\\left ( 1-p \\right )^{n-y}$$\n",
    "\n",
    "Step 3 : Simplify\n",
    "$$ E\\left | y \\right | = \\sum_{y=0}^{n} y \\cdot \\binom{n}{y} P^y\\left ( 1-p \\right )^{n-y}$$\n",
    "\n",
    "$$ E\\left | y \\right | = \\sum_{y=1}^{n}\\frac{n!}{(y-1)!(n-y)!}p^y(1-p)^{n-y}$$\n",
    "\n",
    "$$ E\\left | y \\right | = \\sum_{y=1}^{n}np\\sum_{y=1}^{n}\\binom{n-1}{y-1}(1-p)^{(n-1)(y-1)}$$\n",
    "\n",
    "$$ E\\left | y \\right | = np\\sum_{k=0}^{n-1}\\binom{n-1}{k}pk(1-p)^{(n-1)-k}$$\n",
    "\n",
    "$$ E\\left | y \\right | = np \\cdot 1$$\n",
    "\n",
    "$$ E\\left | y \\right | = np$$\n"
   ]
  },
  {
   "cell_type": "markdown",
   "metadata": {},
   "source": [
    "##### Question 3\n",
    "\n",
    "Experience has shown that 30% of all persons afflicted by a certain illness recover. A drug company has developed a new medication. Ten people with the illness were selected at random and received the medication; nine recovered shortly thereafter. Suppose that the medication was absolutely worthless. What is the probability that at least nine of ten receiving the medication will recover?"
   ]
  },
  {
   "cell_type": "markdown",
   "metadata": {},
   "source": [
    "Step 1 : \n",
    "For $k=9$ : \n",
    "\n",
    "$P(Y = 9) = \\binom{10}{9} \\cdot (0.30)^9 \\cdot (0.70)^1$\n",
    "\n",
    "$P(Y = 9) = 10 \\cdot (0.30)^9 \\cdot (0.70)^1$\n",
    "\n",
    "$P(Y = 9) = 0.121\n",
    "\n",
    "For $k=10$ : \n",
    "\n",
    "$P(Y = 10) = \\binom{10}{10} \\cdot (0.30)^10 \\cdot (0.70)^1$\n",
    "\n",
    "$P(Y = 10) = (0.30)^10 \\cdot (0.70)^1$\n",
    "\n",
    "$P(Y = 10) = 0.028$\n",
    "\n",
    "Step 2 : Add the probabilities\n",
    "\n",
    "$ P(Y \\geq 9) = 0.121 + 0.028 $\n",
    "\n",
    "$ P(Y \\geq 9) = 0.149 $ \n",
    "\n",
    "The probability that at least nine of the ten will recover is 14.9%."
   ]
  },
  {
   "cell_type": "markdown",
   "metadata": {},
   "source": [
    "##### Question 4\n",
    "\n",
    "Suppose that a lot of 5000 electrical fuses contains 5% defectives. If a sample of 5 fuses is tested, find the probability of observing at least one defective."
   ]
  },
  {
   "cell_type": "markdown",
   "metadata": {},
   "source": [
    "Step 1 : \n",
    "- Let $Y$ represent the number of defective fuses in the 5 trials\n",
    "- Let $P(Y \\geq 1)$ represent the probability of at least one fuse being defective\n",
    "- Let $P(Y = 0)$ represent the probability of no fuse being defective\n",
    "\n",
    "\n",
    "$$P(Y \\geq 1) = 1 - P(Y = 0)$$\n",
    "\n",
    "Step 2 : Find $P(Y = 0)$ using the binomial probability formula\n",
    "\n",
    "$$P(Y = k) = \\binom{n}{k} \\cdot p^k \\cdot q^{n-k}$$\n",
    "\n",
    "Step 3 : Substitute\n",
    "\n",
    "$$P(Y \\geq 1) = 1 - P(Y = 0)$$\n",
    "\n",
    "$$P(Y \\geq 1) = 1 - \\binom{5}{0} \\cdot 0.05^0 \\cdot 0.95^5$$\n",
    "$$P(Y \\geq 1) = 1 - 1 \\cdot 0.773781$$\n",
    "$$P(Y \\geq 1) = 1 - 0.773781$$\n",
    "$$P(Y \\geq 1) = 0.226219$$\n",
    "\n",
    "The probability of at least one fuse being defective is 22.62%"
   ]
  },
  {
   "cell_type": "markdown",
   "metadata": {},
   "source": [
    "### Task 3 :\n",
    "\n",
    "Consider a probability distribution of $p(y) = \\frac{\\lambda^y}{y!}e^{-\\lambda}$"
   ]
  },
  {
   "cell_type": "markdown",
   "metadata": {},
   "source": [
    "##### Question 1 \n",
    "\n",
    "Find a general formula for the expected value of this distribution."
   ]
  },
  {
   "cell_type": "markdown",
   "metadata": {},
   "source": [
    "Step 1 : \n",
    "Substitute into Expected value formula : \n",
    "\n",
    "$$E\\left | y \\right | = \\sum_{y=0}^{\\infty} y \\cdot P\\left ( y \\right )$$\n",
    "$$E\\left | y \\right | = \\sum_{y=0}^{\\infty} y \\cdot \\frac{\\lambda^y}{y!}e^{-\\lambda}$$\n",
    "\n"
   ]
  },
  {
   "cell_type": "markdown",
   "metadata": {},
   "source": [
    "Step 2 : Factor out constants\n",
    "$$E\\left | y \\right | = e^{-\\lambda}\\sum_{y=0}^{\\infty}\\frac{\\lambda^y}{(y-1)!}$$\n",
    "since $y = 0$ makes $\\frac{\\lambda^y}{(y-1)!}$ undefined, we change the start of the summation to be $y=1$ where : \n",
    " $$E\\left | y \\right | = e^{-\\lambda}\\sum_{y=1}^{\\infty}\\frac{\\lambda^y}{(y-1)!}$$"
   ]
  },
  {
   "cell_type": "markdown",
   "metadata": {},
   "source": [
    "Step 3 : Simplify\n",
    "$$ E\\left | y \\right | = e^{-\\lambda}\\sum_{y=1}^{\\infty}\\frac{\\lambda^{y - 1 + 1}}{(y-1)!}$$\n",
    "$$ E\\left | y \\right | = e^{-\\lambda}\\sum_{y=0}^{\\infty}\\frac{\\lambda^{y+ 1}}{y!}$$\n",
    "$$ E\\left | y \\right | = e^{-\\lambda}\\lambda\\sum_{y=0}^{\\infty}\\frac{\\lambda^y}{y!}$$"
   ]
  },
  {
   "cell_type": "markdown",
   "metadata": {},
   "source": [
    "Step 4 : Substitute\n",
    "\n",
    "Since $e^\\lambda = \\sum_{y=0}{\\infty}\\frac{\\lambda^y}{y!}$\n",
    "$$ E\\left | y \\right | = e^{-\\lambda}\\lambda e^{\\lambda}$$\n"
   ]
  },
  {
   "cell_type": "markdown",
   "metadata": {},
   "source": [
    "Step 4 : Simplify\n",
    "\n",
    "$$ E\\left | y \\right | = \\lambda$$\n",
    "\n",
    "The formula for the expected value for the ditribution is $ E\\left | y \\right | = \\lambda$."
   ]
  },
  {
   "cell_type": "markdown",
   "metadata": {},
   "source": [
    "##### Question 2\n",
    "\n",
    "A certain type of tree has seedlings randomly dispersed in a large area, with the mean density of seedlings being approximately five per square yard. If a forester randomly locates ten 1-square-yard sampling regions in the area, find the probability that none of the regions will contain seedlings."
   ]
  },
  {
   "cell_type": "markdown",
   "metadata": {},
   "source": [
    "$\\lambda = 5$\n",
    "\n",
    "Using the Poisson distribution formula : \n",
    "$$P(Y=y) = \\frac{\\lambda^y}{y!}e^{-\\lambda}$$"
   ]
  },
  {
   "cell_type": "markdown",
   "metadata": {},
   "source": [
    "If y = 0 \n",
    "$$P(Y=0) = \\frac{5^0}{0!}e^{-5}$$\n",
    "$$P(Y=0) = 0.006738$$\n",
    "\n",
    "Which gives us a 0.63% that none of the regions will contain seedlings"
   ]
  }
 ],
 "metadata": {
  "language_info": {
   "name": "python"
  }
 },
 "nbformat": 4,
 "nbformat_minor": 2
}
